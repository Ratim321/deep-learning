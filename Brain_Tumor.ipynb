{
 "cells": [
  {
   "cell_type": "code",
   "execution_count": 13,
   "id": "01eb6ffe",
   "metadata": {},
   "outputs": [],
   "source": [
    "import pandas as pd\n",
    "import os\n",
    "import cv2\n",
    "import tensorflow as tf\n",
    "from tensorflow.keras import layers\n",
    "from tensorflow.keras import layers, models\n",
    "from sklearn.model_selection import train_test_split\n",
    "import matplotlib.pyplot as plt\n",
    "import numpy as np"
   ]
  },
  {
   "cell_type": "code",
   "execution_count": null,
   "id": "58597fbb",
   "metadata": {},
   "outputs": [],
   "source": [
    "#Reading file"
   ]
  },
  {
   "cell_type": "code",
   "execution_count": 2,
   "id": "fb2d9337",
   "metadata": {},
   "outputs": [],
   "source": [
    "csv_path = r\"D:\\Xray\\Brain Tumor.csv\"\n",
    "df = pd.read_csv(csv_path)"
   ]
  },
  {
   "cell_type": "code",
   "execution_count": null,
   "id": "cc8bbd0c",
   "metadata": {},
   "outputs": [],
   "source": [
    "#Defining array for merged the files"
   ]
  },
  {
   "cell_type": "code",
   "execution_count": 3,
   "id": "e557fe88",
   "metadata": {},
   "outputs": [],
   "source": [
    "merged_data = []\n"
   ]
  },
  {
   "cell_type": "code",
   "execution_count": null,
   "id": "849f6b48",
   "metadata": {},
   "outputs": [],
   "source": [
    "#Merging the data based on Image Coloumn"
   ]
  },
  {
   "cell_type": "code",
   "execution_count": 4,
   "id": "a2214871",
   "metadata": {},
   "outputs": [],
   "source": [
    "image_folder = r\"D:\\Xray\\Brain Tumor\\Brain Tumor\"\n",
    "\n",
    "for index, row in df.iterrows():\n",
    "    image_name = row['Image']\n",
    "    class_value = row['Class']\n",
    "    image_path = os.path.join(image_folder, image_name)\n",
    "    merged_data.append((image_path, class_value))"
   ]
  },
  {
   "cell_type": "code",
   "execution_count": 5,
   "id": "b0608959",
   "metadata": {},
   "outputs": [],
   "source": [
    "merged_df = pd.DataFrame(merged_data, columns=['Image Path', 'Class'])\n"
   ]
  },
  {
   "cell_type": "code",
   "execution_count": 6,
   "id": "f488255f",
   "metadata": {
    "scrolled": true
   },
   "outputs": [
    {
     "data": {
      "text/html": [
       "<div>\n",
       "<style scoped>\n",
       "    .dataframe tbody tr th:only-of-type {\n",
       "        vertical-align: middle;\n",
       "    }\n",
       "\n",
       "    .dataframe tbody tr th {\n",
       "        vertical-align: top;\n",
       "    }\n",
       "\n",
       "    .dataframe thead th {\n",
       "        text-align: right;\n",
       "    }\n",
       "</style>\n",
       "<table border=\"1\" class=\"dataframe\">\n",
       "  <thead>\n",
       "    <tr style=\"text-align: right;\">\n",
       "      <th></th>\n",
       "      <th>Image Path</th>\n",
       "      <th>Class</th>\n",
       "    </tr>\n",
       "  </thead>\n",
       "  <tbody>\n",
       "    <tr>\n",
       "      <th>0</th>\n",
       "      <td>D:\\Xray\\Brain Tumor\\Brain Tumor\\Image1</td>\n",
       "      <td>0</td>\n",
       "    </tr>\n",
       "    <tr>\n",
       "      <th>1</th>\n",
       "      <td>D:\\Xray\\Brain Tumor\\Brain Tumor\\Image2</td>\n",
       "      <td>0</td>\n",
       "    </tr>\n",
       "    <tr>\n",
       "      <th>2</th>\n",
       "      <td>D:\\Xray\\Brain Tumor\\Brain Tumor\\Image3</td>\n",
       "      <td>1</td>\n",
       "    </tr>\n",
       "    <tr>\n",
       "      <th>3</th>\n",
       "      <td>D:\\Xray\\Brain Tumor\\Brain Tumor\\Image4</td>\n",
       "      <td>1</td>\n",
       "    </tr>\n",
       "    <tr>\n",
       "      <th>4</th>\n",
       "      <td>D:\\Xray\\Brain Tumor\\Brain Tumor\\Image5</td>\n",
       "      <td>0</td>\n",
       "    </tr>\n",
       "  </tbody>\n",
       "</table>\n",
       "</div>"
      ],
      "text/plain": [
       "                               Image Path  Class\n",
       "0  D:\\Xray\\Brain Tumor\\Brain Tumor\\Image1      0\n",
       "1  D:\\Xray\\Brain Tumor\\Brain Tumor\\Image2      0\n",
       "2  D:\\Xray\\Brain Tumor\\Brain Tumor\\Image3      1\n",
       "3  D:\\Xray\\Brain Tumor\\Brain Tumor\\Image4      1\n",
       "4  D:\\Xray\\Brain Tumor\\Brain Tumor\\Image5      0"
      ]
     },
     "execution_count": 6,
     "metadata": {},
     "output_type": "execute_result"
    }
   ],
   "source": [
    "merged_df.head()"
   ]
  },
  {
   "cell_type": "code",
   "execution_count": null,
   "id": "3b3d6d39",
   "metadata": {},
   "outputs": [],
   "source": [
    "#Saving the merged Data"
   ]
  },
  {
   "cell_type": "code",
   "execution_count": 7,
   "id": "4bd1952b",
   "metadata": {},
   "outputs": [],
   "source": [
    "output_path = r\"D:\\Xray\\Brain Tumor\\merged_data.csv\"\n",
    "merged_df.to_csv(output_path, index=False)"
   ]
  },
  {
   "cell_type": "code",
   "execution_count": 8,
   "id": "bd01688d",
   "metadata": {},
   "outputs": [],
   "source": [
    "merged_data = pd.read_csv(r\"D:\\Xray\\Brain Tumor\\merged_data.csv\")"
   ]
  },
  {
   "cell_type": "code",
   "execution_count": 11,
   "id": "6585fe5e",
   "metadata": {},
   "outputs": [],
   "source": [
    "img = cv2.imread(r\"D:\\Xray\\Brain Tumor\\Brain Tumor\\Image1.jpg\" )\n"
   ]
  },
  {
   "cell_type": "code",
   "execution_count": null,
   "id": "df39cd9d",
   "metadata": {},
   "outputs": [],
   "source": [
    "#Reading Image dimension"
   ]
  },
  {
   "cell_type": "code",
   "execution_count": 31,
   "id": "c1e70846",
   "metadata": {},
   "outputs": [
    {
     "data": {
      "text/plain": [
       "(240, 240, 3)"
      ]
     },
     "execution_count": 31,
     "metadata": {},
     "output_type": "execute_result"
    }
   ],
   "source": [
    "img.shape"
   ]
  },
  {
   "cell_type": "code",
   "execution_count": null,
   "id": "4ccc6e7e",
   "metadata": {},
   "outputs": [],
   "source": [
    "#Reading Sample Image"
   ]
  },
  {
   "cell_type": "code",
   "execution_count": 14,
   "id": "7ac29e98",
   "metadata": {
    "scrolled": true
   },
   "outputs": [
    {
     "data": {
      "text/plain": [
       "(240, 240, 3)"
      ]
     },
     "execution_count": 14,
     "metadata": {},
     "output_type": "execute_result"
    },
    {
     "data": {
      "image/png": "[encoded data removed]",
      "text/plain": [
       "<Figure size 640x480 with 1 Axes>"
      ]
     },
     "metadata": {},
     "output_type": "display_data"
    }
   ],
   "source": [
    "plt.imshow(img)\n",
    "img.shape"
   ]
  },
  {
   "cell_type": "code",
   "execution_count": null,
   "id": "eac2638a",
   "metadata": {},
   "outputs": [],
   "source": [
    "#Merged_data files Image coloumn value was not included .jpg adding .jpg to coloumn value"
   ]
  },
  {
   "cell_type": "code",
   "execution_count": 19,
   "id": "7d4afc25",
   "metadata": {},
   "outputs": [],
   "source": [
    "\n",
    "merged_data = pd.read_csv(r\"D:\\Xray\\Brain Tumor\\merged_data.csv\")\n",
    "\n",
    "\n",
    "merged_data[\"Image Path\"] = merged_data[\"Image Path\"].apply(lambda x: x + \".jpg\")\n",
    "\n",
    "\n",
    "merged_data.to_csv(r\"D:\\Xray\\Brain Tumor\\merged_data.csv\", index=False)"
   ]
  },
  {
   "cell_type": "code",
   "execution_count": null,
   "id": "d64d3f1f",
   "metadata": {},
   "outputs": [],
   "source": [
    "#Setting my training img dimension based on files Image dimension"
   ]
  },
  {
   "cell_type": "code",
   "execution_count": 20,
   "id": "0e9991f6",
   "metadata": {},
   "outputs": [],
   "source": [
    "input_shape = (240, 240, 3)  \n"
   ]
  },
  {
   "cell_type": "code",
   "execution_count": 21,
   "id": "33c16faa",
   "metadata": {},
   "outputs": [],
   "source": [
    "image_paths = merged_data['Image Path'].values\n",
    "labels = merged_data['Class'].values"
   ]
  },
  {
   "cell_type": "code",
   "execution_count": null,
   "id": "8de6ecdb",
   "metadata": {},
   "outputs": [],
   "source": [
    "#Processing the images by normalizing it"
   ]
  },
  {
   "cell_type": "code",
   "execution_count": 22,
   "id": "c7afb7e0",
   "metadata": {},
   "outputs": [],
   "source": [
    "def preprocess_image(image_path):\n",
    "    image = tf.io.read_file(image_path)\n",
    "    image = tf.image.decode_jpeg(image, channels=3)\n",
    "    image = tf.image.resize(image, input_shape[:2])\n",
    "    image = image / 255.0  \n",
    "    return image\n"
   ]
  },
  {
   "cell_type": "code",
   "execution_count": null,
   "id": "a0929477",
   "metadata": {},
   "outputs": [],
   "source": [
    "#X is image and y contains 0 or 1"
   ]
  },
  {
   "cell_type": "code",
   "execution_count": 23,
   "id": "7c5edea6",
   "metadata": {},
   "outputs": [],
   "source": [
    "processed_images = [preprocess_image(image_path) for image_path in image_paths]\n",
    "X = tf.stack(processed_images)\n",
    "y = tf.convert_to_tensor(labels)"
   ]
  },
  {
   "cell_type": "code",
   "execution_count": null,
   "id": "e496e01b",
   "metadata": {},
   "outputs": [],
   "source": [
    "#Getting value for training"
   ]
  },
  {
   "cell_type": "code",
   "execution_count": 26,
   "id": "a598acd2",
   "metadata": {},
   "outputs": [],
   "source": [
    "train_size = int(0.8 * len(X))\n",
    "X_train, X_test = X[:train_size], X[train_size:]\n",
    "y_train, y_test = y[:train_size], y[train_size:]\n"
   ]
  },
  {
   "cell_type": "code",
   "execution_count": null,
   "id": "68cc30d5",
   "metadata": {},
   "outputs": [],
   "source": [
    "#Creating model \"CNN\""
   ]
  },
  {
   "cell_type": "code",
   "execution_count": 27,
   "id": "6bc8f912",
   "metadata": {},
   "outputs": [],
   "source": [
    "model = tf.keras.Sequential([\n",
    "    layers.Conv2D(32, (3, 3), activation='relu', input_shape=input_shape),\n",
    "    layers.MaxPooling2D((2, 2)),\n",
    "    layers.Conv2D(64, (3, 3), activation='relu'),\n",
    "    layers.MaxPooling2D((2, 2)),\n",
    "    layers.Conv2D(128, (3, 3), activation='relu'),\n",
    "    layers.MaxPooling2D((2, 2)),\n",
    "    layers.Flatten(),\n",
    "    layers.Dense(64, activation='relu'),\n",
    "    layers.Dense(1, activation='sigmoid')\n",
    "])"
   ]
  },
  {
   "cell_type": "code",
   "execution_count": null,
   "id": "ede5d12a",
   "metadata": {},
   "outputs": [],
   "source": [
    "#Start training"
   ]
  },
  {
   "cell_type": "code",
   "execution_count": 28,
   "id": "91ba6d08",
   "metadata": {},
   "outputs": [
    {
     "name": "stdout",
     "output_type": "stream",
     "text": [
      "Epoch 1/10\n",
      "94/94 [==============================] - 165s 2s/step - loss: 0.4997 - accuracy: 0.7786 - val_loss: 0.4778 - val_accuracy: 0.8021\n",
      "Epoch 2/10\n",
      "94/94 [==============================] - 281s 3s/step - loss: 0.3327 - accuracy: 0.8677 - val_loss: 0.8296 - val_accuracy: 0.6786\n",
      "Epoch 3/10\n",
      "94/94 [==============================] - 267s 3s/step - loss: 0.2579 - accuracy: 0.9003 - val_loss: 0.3265 - val_accuracy: 0.8526\n",
      "Epoch 4/10\n",
      "94/94 [==============================] - 264s 3s/step - loss: 0.1869 - accuracy: 0.9295 - val_loss: 0.3381 - val_accuracy: 0.8831\n",
      "Epoch 5/10\n",
      "94/94 [==============================] - 271s 3s/step - loss: 0.1517 - accuracy: 0.9418 - val_loss: 0.3677 - val_accuracy: 0.8792\n",
      "Epoch 6/10\n",
      "94/94 [==============================] - 267s 3s/step - loss: 0.1182 - accuracy: 0.9531 - val_loss: 0.5663 - val_accuracy: 0.8234\n",
      "Epoch 7/10\n",
      "94/94 [==============================] - 280s 3s/step - loss: 0.0791 - accuracy: 0.9727 - val_loss: 0.2881 - val_accuracy: 0.9163\n",
      "Epoch 8/10\n",
      "94/94 [==============================] - 269s 3s/step - loss: 0.0556 - accuracy: 0.9814 - val_loss: 0.2395 - val_accuracy: 0.9296\n",
      "Epoch 9/10\n",
      "94/94 [==============================] - 266s 3s/step - loss: 0.0407 - accuracy: 0.9857 - val_loss: 0.2689 - val_accuracy: 0.9389\n",
      "Epoch 10/10\n",
      "94/94 [==============================] - 265s 3s/step - loss: 0.0429 - accuracy: 0.9837 - val_loss: 0.3190 - val_accuracy: 0.9097\n",
      "24/24 [==============================] - 16s 692ms/step - loss: 0.3190 - accuracy: 0.9097\n",
      "Test Loss: 0.31899961829185486\n",
      "Test Accuracy: 0.9096945524215698\n"
     ]
    }
   ],
   "source": [
    "# Compile the model\n",
    "model.compile(optimizer='adam',\n",
    "              loss='binary_crossentropy',\n",
    "              metrics=['accuracy'])\n",
    "\n",
    "# Train the model\n",
    "model.fit(X_train, y_train, epochs=10, batch_size=32, validation_data=(X_test, y_test))\n",
    "\n",
    "# Evaluate the model\n",
    "loss, accuracy = model.evaluate(X_test, y_test)\n",
    "print(\"Test Loss:\", loss)\n",
    "print(\"Test Accuracy:\", accuracy)"
   ]
  },
  {
   "cell_type": "code",
   "execution_count": 32,
   "id": "6d976662",
   "metadata": {},
   "outputs": [],
   "source": [
    "model.save(\"model.h5\")\n"
   ]
  },
  {
   "cell_type": "code",
   "execution_count": null,
   "id": "e6a6348c",
   "metadata": {},
   "outputs": [],
   "source": [
    "#Analyzing graph for "
   ]
  },
  {
   "cell_type": "code",
   "execution_count": 43,
   "id": "8eb14c80",
   "metadata": {},
   "outputs": [
    {
     "name": "stdout",
     "output_type": "stream",
     "text": [
      "24/24 [==============================] - 6s 231ms/step\n"
     ]
    },
    {
     "data": {
      "image/png": "[encoded data removed]",
      "text/plain": [
       "<Figure size 640x480 with 1 Axes>"
      ]
     },
     "metadata": {},
     "output_type": "display_data"
    }
   ],
   "source": [
    "y_pred_prob = model.predict(X_test)\n",
    "\n",
    "y_pred = [1 if prob >= 0.5 else 0 for prob in y_pred_prob]\n",
    "\n",
    "class_counts = {0: y_pred.count(0), 1: y_pred.count(1)}\n",
    "\n",
    "plt.bar(class_counts.keys(), class_counts.values())\n",
    "plt.xlabel('Class')\n",
    "plt.ylabel('Count')\n",
    "plt.xticks(list(class_counts.keys()))\n",
    "plt.title('Predicted Class Distribution')\n",
    "plt.show()"
   ]
  },
  {
   "cell_type": "code",
   "execution_count": 44,
   "id": "b31e0ce3",
   "metadata": {},
   "outputs": [
    {
     "data": {
      "image/png": "[encoded data removed]",
      "text/plain": [
       "<Figure size 640x480 with 1 Axes>"
      ]
     },
     "metadata": {},
     "output_type": "display_data"
    }
   ],
   "source": [
    "class_counts = merged_data['Class'].value_counts()\n",
    "\n",
    "plt.bar(class_counts.index, class_counts.values)\n",
    "plt.xlabel('Class')\n",
    "plt.ylabel('Count')\n",
    "plt.xticks(class_counts.index)\n",
    "plt.title('Class Distribution in Merged Data')\n",
    "plt.show()"
   ]
  },
  {
   "cell_type": "code",
   "execution_count": 46,
   "id": "c53616a6",
   "metadata": {
    "collapsed": true
   },
   "outputs": [
    {
     "name": "stdout",
     "output_type": "stream",
     "text": [
      "Epoch 1/10\n",
      "94/94 [==============================] - 164s 2s/step - loss: 0.0344 - accuracy: 0.9890 - val_loss: 0.2356 - val_accuracy: 0.9402\n",
      "Epoch 2/10\n",
      "94/94 [==============================] - 317s 3s/step - loss: 0.0206 - accuracy: 0.9950 - val_loss: 0.2891 - val_accuracy: 0.9336\n",
      "Epoch 3/10\n",
      "94/94 [==============================] - 303s 3s/step - loss: 0.0035 - accuracy: 1.0000 - val_loss: 0.3448 - val_accuracy: 0.9323\n",
      "Epoch 4/10\n",
      "94/94 [==============================] - 328s 3s/step - loss: 0.0014 - accuracy: 1.0000 - val_loss: 0.3568 - val_accuracy: 0.9376\n",
      "Epoch 5/10\n",
      "94/94 [==============================] - 284s 3s/step - loss: 7.4226e-04 - accuracy: 1.0000 - val_loss: 0.3899 - val_accuracy: 0.9336\n",
      "Epoch 6/10\n",
      "94/94 [==============================] - 270s 3s/step - loss: 6.7375e-04 - accuracy: 1.0000 - val_loss: 0.3710 - val_accuracy: 0.9389\n",
      "Epoch 7/10\n",
      "94/94 [==============================] - 269s 3s/step - loss: 4.5111e-04 - accuracy: 1.0000 - val_loss: 0.4038 - val_accuracy: 0.9402\n",
      "Epoch 8/10\n",
      "94/94 [==============================] - 133s 1s/step - loss: 2.9744e-04 - accuracy: 1.0000 - val_loss: 0.3985 - val_accuracy: 0.9389\n",
      "Epoch 9/10\n",
      "94/94 [==============================] - 289s 3s/step - loss: 2.4664e-04 - accuracy: 1.0000 - val_loss: 0.3944 - val_accuracy: 0.9376\n",
      "Epoch 10/10\n",
      "94/94 [==============================] - 272s 3s/step - loss: 2.0506e-04 - accuracy: 1.0000 - val_loss: 0.4250 - val_accuracy: 0.9416\n",
      "Training Accuracy: [0.9890292286872864, 0.9950132966041565, 1.0, 1.0, 1.0, 1.0, 1.0, 1.0, 1.0, 1.0]\n"
     ]
    }
   ],
   "source": [
    "history = model.fit(X_train, y_train, epochs=10, batch_size=32, validation_data=(X_test, y_test))\n",
    "\n",
    "training_accuracy = history.history['accuracy']\n",
    "\n",
    "print(\"Training Accuracy:\", training_accuracy)"
   ]
  },
  {
   "cell_type": "code",
   "execution_count": 48,
   "id": "c7e55430",
   "metadata": {},
   "outputs": [
    {
     "data": {
      "image/png": "[encoded data removed]",
      "text/plain": [
       "<Figure size 800x600 with 1 Axes>"
      ]
     },
     "metadata": {},
     "output_type": "display_data"
    }
   ],
   "source": [
    "plt.figure(figsize=(8, 6))\n",
    "plt.plot(training_accuracy)\n",
    "plt.xlabel('Epoch')\n",
    "plt.ylabel('Accuracy')\n",
    "plt.title('Training Accuracy')\n",
    "plt.show()"
   ]
  },
  {
   "cell_type": "code",
   "execution_count": null,
   "id": "d51e241b",
   "metadata": {},
   "outputs": [],
   "source": []
  }
 ],
 "metadata": {
  "kernelspec": {
   "display_name": "Python 3 (ipykernel)",
   "language": "python",
   "name": "python3"
  },
  "language_info": {
   "codemirror_mode": {
    "name": "ipython",
    "version": 3
   },
   "file_extension": ".py",
   "mimetype": "text/x-python",
   "name": "python",
   "nbconvert_exporter": "python",
   "pygments_lexer": "ipython3",
   "version": "3.11.3"
  }
 },
 "nbformat": 4,
 "nbformat_minor": 5
}
